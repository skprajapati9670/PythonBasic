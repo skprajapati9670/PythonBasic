{
 "cells": [
  {
   "cell_type": "code",
   "execution_count": 1,
   "id": "9f1765a3-37e9-493f-a1c3-45fa654051d4",
   "metadata": {},
   "outputs": [
    {
     "data": {
      "text/plain": [
       "2"
      ]
     },
     "execution_count": 1,
     "metadata": {},
     "output_type": "execute_result"
    }
   ],
   "source": [
    "1+1"
   ]
  },
  {
   "cell_type": "code",
   "execution_count": 2,
   "id": "11d57a05-9607-4835-9752-5a5e07eba088",
   "metadata": {},
   "outputs": [
    {
     "data": {
      "text/plain": [
       "290"
      ]
     },
     "execution_count": 2,
     "metadata": {},
     "output_type": "execute_result"
    }
   ],
   "source": [
    "5*58"
   ]
  },
  {
   "cell_type": "code",
   "execution_count": 3,
   "id": "86888ac3-9545-4424-967a-a8c0a3d1d360",
   "metadata": {},
   "outputs": [],
   "source": [
    "a=10"
   ]
  },
  {
   "cell_type": "code",
   "execution_count": 4,
   "id": "e0526dca-caf6-4af3-bfae-21e5b1379352",
   "metadata": {},
   "outputs": [
    {
     "data": {
      "text/plain": [
       "10"
      ]
     },
     "execution_count": 4,
     "metadata": {},
     "output_type": "execute_result"
    }
   ],
   "source": [
    "a"
   ]
  },
  {
   "cell_type": "code",
   "execution_count": 5,
   "id": "4d3b92f6-4735-46a2-99f0-5b9c443ff9f2",
   "metadata": {},
   "outputs": [],
   "source": [
    "sum=10"
   ]
  },
  {
   "cell_type": "code",
   "execution_count": 6,
   "id": "f531d383-a4e7-4c7a-9480-0a871e4c5137",
   "metadata": {},
   "outputs": [
    {
     "data": {
      "text/plain": [
       "20"
      ]
     },
     "execution_count": 6,
     "metadata": {},
     "output_type": "execute_result"
    }
   ],
   "source": [
    "sum+a"
   ]
  },
  {
   "cell_type": "code",
   "execution_count": 7,
   "id": "6b899347-1e09-4282-a82d-046c06588db8",
   "metadata": {},
   "outputs": [
    {
     "data": {
      "text/plain": [
       "int"
      ]
     },
     "execution_count": 7,
     "metadata": {},
     "output_type": "execute_result"
    }
   ],
   "source": [
    "type(a)"
   ]
  },
  {
   "cell_type": "code",
   "execution_count": 8,
   "id": "6a10166b-647d-4ef1-845f-82c4065bbdf9",
   "metadata": {},
   "outputs": [
    {
     "data": {
      "text/plain": [
       "int"
      ]
     },
     "execution_count": 8,
     "metadata": {},
     "output_type": "execute_result"
    }
   ],
   "source": [
    "type(sum)"
   ]
  },
  {
   "cell_type": "code",
   "execution_count": 9,
   "id": "1032ba56-cf76-4a8a-af4d-5f4e5e035820",
   "metadata": {},
   "outputs": [],
   "source": [
    "b=2.55 "
   ]
  },
  {
   "cell_type": "code",
   "execution_count": 10,
   "id": "bb2ddd85-86e4-4638-bff4-35f2c8d3e24d",
   "metadata": {},
   "outputs": [
    {
     "data": {
      "text/plain": [
       "float"
      ]
     },
     "execution_count": 10,
     "metadata": {},
     "output_type": "execute_result"
    }
   ],
   "source": [
    "type(b)"
   ]
  },
  {
   "cell_type": "code",
   "execution_count": 11,
   "id": "0d019ab5-a938-46b2-a1c3-744166319a32",
   "metadata": {},
   "outputs": [
    {
     "data": {
      "text/plain": [
       "float"
      ]
     },
     "execution_count": 11,
     "metadata": {},
     "output_type": "execute_result"
    }
   ],
   "source": [
    "c=4825.265\n",
    "type(c)"
   ]
  },
  {
   "cell_type": "code",
   "execution_count": 12,
   "id": "4e8b35be-e6ae-4ae3-96d4-4fb6e1a8a6e6",
   "metadata": {},
   "outputs": [],
   "source": [
    "s=\"sumit kumar prajapati\""
   ]
  },
  {
   "cell_type": "code",
   "execution_count": 13,
   "id": "d7066af3-a096-44f3-a7d2-27bc10b0e1d3",
   "metadata": {},
   "outputs": [
    {
     "data": {
      "text/plain": [
       "'sumit kumar prajapati'"
      ]
     },
     "execution_count": 13,
     "metadata": {},
     "output_type": "execute_result"
    }
   ],
   "source": [
    "s"
   ]
  },
  {
   "cell_type": "code",
   "execution_count": 14,
   "id": "12ee6df2-1cb1-4935-b46d-0fc0dc343a58",
   "metadata": {},
   "outputs": [
    {
     "data": {
      "text/plain": [
       "str"
      ]
     },
     "execution_count": 14,
     "metadata": {},
     "output_type": "execute_result"
    }
   ],
   "source": [
    "type(s)"
   ]
  },
  {
   "cell_type": "code",
   "execution_count": 15,
   "id": "496695d4-3df0-4ac7-8b31-9c13b94eb1f7",
   "metadata": {},
   "outputs": [
    {
     "data": {
      "text/plain": [
       "bool"
      ]
     },
     "execution_count": 15,
     "metadata": {},
     "output_type": "execute_result"
    }
   ],
   "source": [
    "n=True\n",
    "type(n)"
   ]
  },
  {
   "cell_type": "code",
   "execution_count": 21,
   "id": "515f489e-da60-469e-bdf8-4bd0d6c90555",
   "metadata": {},
   "outputs": [],
   "source": [
    "m=False"
   ]
  },
  {
   "cell_type": "code",
   "execution_count": 22,
   "id": "ebbe0f87-984a-48b5-99cf-8c71b7f7c771",
   "metadata": {},
   "outputs": [
    {
     "data": {
      "text/plain": [
       "bool"
      ]
     },
     "execution_count": 22,
     "metadata": {},
     "output_type": "execute_result"
    }
   ],
   "source": [
    "type(m)"
   ]
  },
  {
   "cell_type": "code",
   "execution_count": 24,
   "id": "ec77d558-28f9-4c95-8b6f-b5a17f3ca531",
   "metadata": {},
   "outputs": [
    {
     "data": {
      "text/plain": [
       "0"
      ]
     },
     "execution_count": 24,
     "metadata": {},
     "output_type": "execute_result"
    }
   ],
   "source": [
    "n+m"
   ]
  },
  {
   "cell_type": "code",
   "execution_count": 26,
   "id": "74e1e26d-be88-4252-94e9-16155b172992",
   "metadata": {},
   "outputs": [
    {
     "data": {
      "text/plain": [
       "0"
      ]
     },
     "execution_count": 26,
     "metadata": {},
     "output_type": "execute_result"
    }
   ],
   "source": [
    "True*False"
   ]
  },
  {
   "cell_type": "code",
   "execution_count": 27,
   "id": "038b2aeb-fd52-4c10-8f56-8e197c734569",
   "metadata": {},
   "outputs": [],
   "source": [
    "v=5 + 8j"
   ]
  },
  {
   "cell_type": "code",
   "execution_count": 28,
   "id": "8efd03d9-338d-49da-ad40-be25b686121b",
   "metadata": {},
   "outputs": [
    {
     "data": {
      "text/plain": [
       "complex"
      ]
     },
     "execution_count": 28,
     "metadata": {},
     "output_type": "execute_result"
    }
   ],
   "source": [
    "type(v)"
   ]
  },
  {
   "cell_type": "code",
   "execution_count": 29,
   "id": "9580cbae-26bc-4e82-bc9f-2ece082c336a",
   "metadata": {},
   "outputs": [
    {
     "data": {
      "text/plain": [
       "5.0"
      ]
     },
     "execution_count": 29,
     "metadata": {},
     "output_type": "execute_result"
    }
   ],
   "source": [
    "v.real\n"
   ]
  },
  {
   "cell_type": "code",
   "execution_count": 30,
   "id": "8f0cc68a-9b95-43d5-9c63-22ab6aa452c8",
   "metadata": {},
   "outputs": [
    {
     "data": {
      "text/plain": [
       "8.0"
      ]
     },
     "execution_count": 30,
     "metadata": {},
     "output_type": "execute_result"
    }
   ],
   "source": [
    "v.imag"
   ]
  },
  {
   "cell_type": "code",
   "execution_count": 31,
   "id": "bbff86a5-a7cd-481d-8672-a6e28bb510ab",
   "metadata": {},
   "outputs": [
    {
     "data": {
      "text/plain": [
       "(5+8j)"
      ]
     },
     "execution_count": 31,
     "metadata": {},
     "output_type": "execute_result"
    }
   ],
   "source": [
    "v"
   ]
  },
  {
   "cell_type": "code",
   "execution_count": 32,
   "id": "6eb42b6f-eb59-43c1-9b33-c5c113ecbc3a",
   "metadata": {},
   "outputs": [
    {
     "name": "stdout",
     "output_type": "stream",
     "text": [
      "My name is Sumit Kumar Prajapati\n"
     ]
    }
   ],
   "source": [
    "print(\"My name is Sumit Kumar Prajapati\")"
   ]
  },
  {
   "cell_type": "code",
   "execution_count": 33,
   "id": "d1dd5496-694b-4e50-84db-fdfaf956ae36",
   "metadata": {},
   "outputs": [],
   "source": [
    "name=\"sumitkumar\""
   ]
  },
  {
   "cell_type": "code",
   "execution_count": 35,
   "id": "dabfd2ff-d915-41ce-9785-824693d7281b",
   "metadata": {},
   "outputs": [
    {
     "data": {
      "text/plain": [
       "str"
      ]
     },
     "execution_count": 35,
     "metadata": {},
     "output_type": "execute_result"
    }
   ],
   "source": [
    "type(name)"
   ]
  },
  {
   "cell_type": "code",
   "execution_count": 36,
   "id": "682b3daf-e317-4f4f-a820-d5be5eabf3ce",
   "metadata": {},
   "outputs": [
    {
     "data": {
      "text/plain": [
       "'s'"
      ]
     },
     "execution_count": 36,
     "metadata": {},
     "output_type": "execute_result"
    }
   ],
   "source": [
    "name[0]"
   ]
  },
  {
   "cell_type": "code",
   "execution_count": 37,
   "id": "703d1930-413d-4759-891e-613aa4a01a31",
   "metadata": {},
   "outputs": [
    {
     "data": {
      "text/plain": [
       "'m'"
      ]
     },
     "execution_count": 37,
     "metadata": {},
     "output_type": "execute_result"
    }
   ],
   "source": [
    "name[2]"
   ]
  },
  {
   "cell_type": "code",
   "execution_count": 38,
   "id": "f5442556-cf41-410b-9d2c-d7b87fd502a1",
   "metadata": {},
   "outputs": [
    {
     "data": {
      "text/plain": [
       "'r'"
      ]
     },
     "execution_count": 38,
     "metadata": {},
     "output_type": "execute_result"
    }
   ],
   "source": [
    "name[-1]"
   ]
  },
  {
   "cell_type": "code",
   "execution_count": 39,
   "id": "61ee6431-918c-4be6-81e7-45748d089c98",
   "metadata": {},
   "outputs": [
    {
     "data": {
      "text/plain": [
       "'su'"
      ]
     },
     "execution_count": 39,
     "metadata": {},
     "output_type": "execute_result"
    }
   ],
   "source": [
    "name[0:2]"
   ]
  },
  {
   "cell_type": "code",
   "execution_count": 40,
   "id": "957575f9-9f5e-4183-b814-fa30ccc31322",
   "metadata": {},
   "outputs": [
    {
     "data": {
      "text/plain": [
       "'sum'"
      ]
     },
     "execution_count": 40,
     "metadata": {},
     "output_type": "execute_result"
    }
   ],
   "source": [
    "name[0:3]"
   ]
  },
  {
   "cell_type": "code",
   "execution_count": 41,
   "id": "767c710f-1988-46d6-9795-c835a8073971",
   "metadata": {},
   "outputs": [
    {
     "data": {
      "text/plain": [
       "'sumit'"
      ]
     },
     "execution_count": 41,
     "metadata": {},
     "output_type": "execute_result"
    }
   ],
   "source": [
    "name[0:5]"
   ]
  },
  {
   "cell_type": "code",
   "execution_count": 44,
   "id": "7f748ea0-5f91-4735-a89d-63f31b498838",
   "metadata": {},
   "outputs": [
    {
     "data": {
      "text/plain": [
       "'smt'"
      ]
     },
     "execution_count": 44,
     "metadata": {},
     "output_type": "execute_result"
    }
   ],
   "source": [
    "name[0:5:2]"
   ]
  },
  {
   "cell_type": "code",
   "execution_count": 47,
   "id": "e8ce27d8-84c7-4060-98e8-01fda729003b",
   "metadata": {},
   "outputs": [
    {
     "data": {
      "text/plain": [
       "'ramuktimus'"
      ]
     },
     "execution_count": 47,
     "metadata": {},
     "output_type": "execute_result"
    }
   ],
   "source": [
    "name[::-1]"
   ]
  },
  {
   "cell_type": "code",
   "execution_count": 48,
   "id": "3e0c7d65-bf15-4c41-acd3-3cc55d86bc8f",
   "metadata": {},
   "outputs": [
    {
     "data": {
      "text/plain": [
       "''"
      ]
     },
     "execution_count": 48,
     "metadata": {},
     "output_type": "execute_result"
    }
   ],
   "source": [
    "name[8:0]"
   ]
  },
  {
   "cell_type": "code",
   "execution_count": 49,
   "id": "33acd39b-78a3-4c5e-a554-cd788be7a0a1",
   "metadata": {},
   "outputs": [
    {
     "data": {
      "text/plain": [
       "'amuktimu'"
      ]
     },
     "execution_count": 49,
     "metadata": {},
     "output_type": "execute_result"
    }
   ],
   "source": [
    "name[8:0:-1]"
   ]
  },
  {
   "cell_type": "code",
   "execution_count": 50,
   "id": "45fb4dab-9423-437b-90ca-dd3e99dce37a",
   "metadata": {},
   "outputs": [
    {
     "data": {
      "text/plain": [
       "''"
      ]
     },
     "execution_count": 50,
     "metadata": {},
     "output_type": "execute_result"
    }
   ],
   "source": [
    "name[-2:-8:1]"
   ]
  },
  {
   "cell_type": "code",
   "execution_count": 51,
   "id": "d736f4bb-94ca-4256-ba86-86dd9bb8c655",
   "metadata": {},
   "outputs": [
    {
     "data": {
      "text/plain": [
       "'amukti'"
      ]
     },
     "execution_count": 51,
     "metadata": {},
     "output_type": "execute_result"
    }
   ],
   "source": [
    "name[-2:-8:-1]"
   ]
  },
  {
   "cell_type": "code",
   "execution_count": 52,
   "id": "ca2a1a23-2f20-45bd-93c6-fdc96ffac33e",
   "metadata": {},
   "outputs": [
    {
     "ename": "IndexError",
     "evalue": "string index out of range",
     "output_type": "error",
     "traceback": [
      "\u001b[0;31m---------------------------------------------------------------------------\u001b[0m",
      "\u001b[0;31mIndexError\u001b[0m                                Traceback (most recent call last)",
      "Cell \u001b[0;32mIn[52], line 1\u001b[0m\n\u001b[0;32m----> 1\u001b[0m \u001b[43mname\u001b[49m\u001b[43m[\u001b[49m\u001b[38;5;241;43m90\u001b[39;49m\u001b[43m]\u001b[49m\n",
      "\u001b[0;31mIndexError\u001b[0m: string index out of range"
     ]
    }
   ],
   "source": [
    "name[90]"
   ]
  },
  {
   "cell_type": "code",
   "execution_count": 54,
   "id": "41be584b-6016-4baa-89aa-a036a1995520",
   "metadata": {},
   "outputs": [
    {
     "data": {
      "text/plain": [
       "''"
      ]
     },
     "execution_count": 54,
     "metadata": {},
     "output_type": "execute_result"
    }
   ],
   "source": [
    "name[:-96:]"
   ]
  },
  {
   "cell_type": "code",
   "execution_count": 55,
   "id": "05830b30-8dce-4b7a-8b1c-bb6356d3ccc6",
   "metadata": {},
   "outputs": [],
   "source": [
    "c=200"
   ]
  },
  {
   "cell_type": "code",
   "execution_count": 56,
   "id": "4e364f51-6526-4549-a0f4-7bbe248c6683",
   "metadata": {},
   "outputs": [],
   "source": [
    "s1=\"my anme is sumit kumar prajapati\""
   ]
  },
  {
   "cell_type": "code",
   "execution_count": 57,
   "id": "7867853b-ac0d-4b90-a692-c53565b7c7e5",
   "metadata": {},
   "outputs": [
    {
     "data": {
      "text/plain": [
       "32"
      ]
     },
     "execution_count": 57,
     "metadata": {},
     "output_type": "execute_result"
    }
   ],
   "source": [
    "len(s1)"
   ]
  },
  {
   "cell_type": "code",
   "execution_count": 59,
   "id": "d58c48af-941c-425b-aee8-cd4bd4beba4a",
   "metadata": {},
   "outputs": [
    {
     "data": {
      "text/plain": [
       "9"
      ]
     },
     "execution_count": 59,
     "metadata": {},
     "output_type": "execute_result"
    }
   ],
   "source": [
    "s1.find(\"s\")"
   ]
  },
  {
   "cell_type": "code",
   "execution_count": 60,
   "id": "2a95ce05-4516-4ac3-9e2f-993f37b5cb03",
   "metadata": {},
   "outputs": [
    {
     "data": {
      "text/plain": [
       "8"
      ]
     },
     "execution_count": 60,
     "metadata": {},
     "output_type": "execute_result"
    }
   ],
   "source": [
    "s1.find(\"is\")"
   ]
  },
  {
   "cell_type": "code",
   "execution_count": 61,
   "id": "ef2fd452-e6d2-47b2-a269-b8666f07987b",
   "metadata": {},
   "outputs": [
    {
     "data": {
      "text/plain": [
       "8"
      ]
     },
     "execution_count": 61,
     "metadata": {},
     "output_type": "execute_result"
    }
   ],
   "source": [
    "s1.find(\"i\")"
   ]
  },
  {
   "cell_type": "code",
   "execution_count": 63,
   "id": "07cfa0c3-eb3b-4102-9cf9-57101abf2140",
   "metadata": {},
   "outputs": [
    {
     "data": {
      "text/plain": [
       "'My anme is sumit kumar prajapati'"
      ]
     },
     "execution_count": 63,
     "metadata": {},
     "output_type": "execute_result"
    }
   ],
   "source": [
    "s1.capitalize()"
   ]
  },
  {
   "cell_type": "code",
   "execution_count": 67,
   "id": "08a39dca-3001-41cf-9dd4-10939950e4ea",
   "metadata": {},
   "outputs": [
    {
     "data": {
      "text/plain": [
       "2"
      ]
     },
     "execution_count": 67,
     "metadata": {},
     "output_type": "execute_result"
    }
   ],
   "source": [
    "s1.count('s')"
   ]
  },
  {
   "cell_type": "code",
   "execution_count": 69,
   "id": "9274a8dc-32bd-4721-9357-be2f27ab249c",
   "metadata": {},
   "outputs": [
    {
     "data": {
      "text/plain": [
       "'MY ANME IS SUMIT KUMAR PRAJAPATI'"
      ]
     },
     "execution_count": 69,
     "metadata": {},
     "output_type": "execute_result"
    }
   ],
   "source": [
    "s1.upper()"
   ]
  },
  {
   "cell_type": "code",
   "execution_count": 70,
   "id": "e3e7c4e5-fdb7-4bc5-8bd5-939ba42005c3",
   "metadata": {},
   "outputs": [
    {
     "data": {
      "text/plain": [
       "'My Anme Is Sumit Kumar Prajapati'"
      ]
     },
     "execution_count": 70,
     "metadata": {},
     "output_type": "execute_result"
    }
   ],
   "source": [
    "s1.title()"
   ]
  },
  {
   "cell_type": "code",
   "execution_count": 1,
   "id": "5823d574-9272-4a44-ab84-d924a5a806e6",
   "metadata": {},
   "outputs": [],
   "source": [
    "s2=\"sumit\""
   ]
  },
  {
   "cell_type": "code",
   "execution_count": 2,
   "id": "3e3b2d30-09db-48a3-830a-df93aa6d4319",
   "metadata": {},
   "outputs": [
    {
     "data": {
      "text/plain": [
       "'sumitsumitsumit'"
      ]
     },
     "execution_count": 2,
     "metadata": {},
     "output_type": "execute_result"
    }
   ],
   "source": [
    "s2*3"
   ]
  },
  {
   "cell_type": "code",
   "execution_count": 4,
   "id": "209c530e-f4bf-4969-a26b-4200ea0a5c9b",
   "metadata": {},
   "outputs": [],
   "source": [
    "s3=\"kumar\""
   ]
  },
  {
   "cell_type": "code",
   "execution_count": 5,
   "id": "97a847ee-e39e-45cc-a045-71cc31b462ba",
   "metadata": {},
   "outputs": [
    {
     "data": {
      "text/plain": [
       "'sumitkumar'"
      ]
     },
     "execution_count": 5,
     "metadata": {},
     "output_type": "execute_result"
    }
   ],
   "source": [
    "s2+s3"
   ]
  },
  {
   "cell_type": "code",
   "execution_count": 6,
   "id": "03abe82d-69c2-4746-8d35-859293a1ec17",
   "metadata": {},
   "outputs": [
    {
     "ename": "TypeError",
     "evalue": "unsupported operand type(s) for /: 'str' and 'int'",
     "output_type": "error",
     "traceback": [
      "\u001b[0;31m---------------------------------------------------------------------------\u001b[0m",
      "\u001b[0;31mTypeError\u001b[0m                                 Traceback (most recent call last)",
      "Cell \u001b[0;32mIn[6], line 1\u001b[0m\n\u001b[0;32m----> 1\u001b[0m \u001b[38;5;124;43m\"\u001b[39;49m\u001b[38;5;124;43msumit\u001b[39;49m\u001b[38;5;124;43m\"\u001b[39;49m\u001b[38;5;241;43m/\u001b[39;49m\u001b[38;5;241;43m5\u001b[39;49m\n",
      "\u001b[0;31mTypeError\u001b[0m: unsupported operand type(s) for /: 'str' and 'int'"
     ]
    }
   ],
   "source": [
    "\"sumit\"/5"
   ]
  },
  {
   "cell_type": "code",
   "execution_count": 7,
   "id": "dc23fb5b-b7e4-4b4a-9c45-d28aa643e5d3",
   "metadata": {},
   "outputs": [],
   "source": [
    "l=[12,45,2,5,\"sumit\"]"
   ]
  },
  {
   "cell_type": "code",
   "execution_count": 8,
   "id": "5b105551-567b-498d-9537-8f41f3dc15d0",
   "metadata": {},
   "outputs": [
    {
     "data": {
      "text/plain": [
       "[12, 45, 2, 5, 'sumit']"
      ]
     },
     "execution_count": 8,
     "metadata": {},
     "output_type": "execute_result"
    }
   ],
   "source": [
    "l"
   ]
  },
  {
   "cell_type": "code",
   "execution_count": 9,
   "id": "6bb03663-d04e-4346-9d1b-bb969c84ac2a",
   "metadata": {},
   "outputs": [
    {
     "data": {
      "text/plain": [
       "'sumit'"
      ]
     },
     "execution_count": 9,
     "metadata": {},
     "output_type": "execute_result"
    }
   ],
   "source": [
    "l[-1]"
   ]
  },
  {
   "cell_type": "code",
   "execution_count": 11,
   "id": "08835852-b2fa-4e71-aa6a-4c7b1ae7348c",
   "metadata": {},
   "outputs": [
    {
     "data": {
      "text/plain": [
       "'sumit'"
      ]
     },
     "execution_count": 11,
     "metadata": {},
     "output_type": "execute_result"
    }
   ],
   "source": [
    "l[-1][0:5]"
   ]
  },
  {
   "cell_type": "code",
   "execution_count": 12,
   "id": "64cccc22-b39f-43cf-8828-9e5bcb73c9e2",
   "metadata": {},
   "outputs": [
    {
     "ename": "TypeError",
     "evalue": "can only concatenate list (not \"int\") to list",
     "output_type": "error",
     "traceback": [
      "\u001b[0;31m---------------------------------------------------------------------------\u001b[0m",
      "\u001b[0;31mTypeError\u001b[0m                                 Traceback (most recent call last)",
      "Cell \u001b[0;32mIn[12], line 1\u001b[0m\n\u001b[0;32m----> 1\u001b[0m \u001b[43ml\u001b[49m\u001b[38;5;241;43m+\u001b[39;49m\u001b[38;5;241;43m5\u001b[39;49m\n",
      "\u001b[0;31mTypeError\u001b[0m: can only concatenate list (not \"int\") to list"
     ]
    }
   ],
   "source": [
    "l+5"
   ]
  },
  {
   "cell_type": "code",
   "execution_count": 13,
   "id": "7a1cf72f-e76c-44e8-9d26-e620adaa8bad",
   "metadata": {},
   "outputs": [],
   "source": [
    "l1=[12,45,2,5,\"sumit\"]"
   ]
  },
  {
   "cell_type": "code",
   "execution_count": 14,
   "id": "d74b3039-1b95-4bcb-8e82-f068e56a360d",
   "metadata": {},
   "outputs": [
    {
     "data": {
      "text/plain": [
       "[12, 45, 2, 5, 'sumit', 12, 45, 2, 5, 'sumit']"
      ]
     },
     "execution_count": 14,
     "metadata": {},
     "output_type": "execute_result"
    }
   ],
   "source": [
    "l+l1"
   ]
  },
  {
   "cell_type": "code",
   "execution_count": 16,
   "id": "06833e42-d15a-40d4-93a3-b790ca45e3e4",
   "metadata": {},
   "outputs": [
    {
     "data": {
      "text/plain": [
       "[12, 45, 2, 5, 'sumit', 12, 45, 2, 5, 'sumit', 12, 45, 2, 5, 'sumit']"
      ]
     },
     "execution_count": 16,
     "metadata": {},
     "output_type": "execute_result"
    }
   ],
   "source": [
    "l1*3"
   ]
  },
  {
   "cell_type": "code",
   "execution_count": 17,
   "id": "36caccd1-3b48-4843-a7e4-2fc69f5cbf33",
   "metadata": {},
   "outputs": [],
   "source": [
    "l1.clear()"
   ]
  },
  {
   "cell_type": "code",
   "execution_count": 18,
   "id": "62a6cde1-846d-4e78-b9d5-d3b973c9f6df",
   "metadata": {},
   "outputs": [
    {
     "data": {
      "text/plain": [
       "[]"
      ]
     },
     "execution_count": 18,
     "metadata": {},
     "output_type": "execute_result"
    }
   ],
   "source": [
    "l1"
   ]
  },
  {
   "cell_type": "code",
   "execution_count": 19,
   "id": "4f3339a9-a8e2-446b-9e90-a4d27100fed7",
   "metadata": {},
   "outputs": [],
   "source": [
    "l1.append(10)"
   ]
  },
  {
   "cell_type": "code",
   "execution_count": 20,
   "id": "f6d31e9b-f8e7-49a1-ad73-4394e201d810",
   "metadata": {},
   "outputs": [
    {
     "data": {
      "text/plain": [
       "[10]"
      ]
     },
     "execution_count": 20,
     "metadata": {},
     "output_type": "execute_result"
    }
   ],
   "source": [
    "l1"
   ]
  },
  {
   "cell_type": "code",
   "execution_count": 21,
   "id": "ec556943-b85e-43b0-b52a-39160f384dea",
   "metadata": {},
   "outputs": [
    {
     "ename": "TypeError",
     "evalue": "'int' object is not iterable",
     "output_type": "error",
     "traceback": [
      "\u001b[0;31m---------------------------------------------------------------------------\u001b[0m",
      "\u001b[0;31mTypeError\u001b[0m                                 Traceback (most recent call last)",
      "Cell \u001b[0;32mIn[21], line 1\u001b[0m\n\u001b[0;32m----> 1\u001b[0m \u001b[43ml1\u001b[49m\u001b[38;5;241;43m.\u001b[39;49m\u001b[43mextend\u001b[49m\u001b[43m(\u001b[49m\u001b[38;5;241;43m4\u001b[39;49m\u001b[43m)\u001b[49m\n",
      "\u001b[0;31mTypeError\u001b[0m: 'int' object is not iterable"
     ]
    }
   ],
   "source": [
    "l1.extend(4)"
   ]
  },
  {
   "cell_type": "code",
   "execution_count": 22,
   "id": "b0ce8705-0560-417e-963c-f0758721020a",
   "metadata": {},
   "outputs": [],
   "source": [
    "l1.extend(\"sumit\")"
   ]
  },
  {
   "cell_type": "code",
   "execution_count": 23,
   "id": "e37c7671-e7c0-4d0a-8d63-48b0fb5ebd6d",
   "metadata": {},
   "outputs": [
    {
     "data": {
      "text/plain": [
       "[10, 's', 'u', 'm', 'i', 't']"
      ]
     },
     "execution_count": 23,
     "metadata": {},
     "output_type": "execute_result"
    }
   ],
   "source": [
    "l1"
   ]
  },
  {
   "cell_type": "code",
   "execution_count": 24,
   "id": "fe074725-722b-4ad2-a516-3d1685488563",
   "metadata": {},
   "outputs": [],
   "source": [
    "l1.extend([10,20,5,63,78])"
   ]
  },
  {
   "cell_type": "code",
   "execution_count": 25,
   "id": "f01167ab-f66b-48d5-b707-1425384320a1",
   "metadata": {},
   "outputs": [
    {
     "data": {
      "text/plain": [
       "[10, 's', 'u', 'm', 'i', 't', 10, 20, 5, 63, 78]"
      ]
     },
     "execution_count": 25,
     "metadata": {},
     "output_type": "execute_result"
    }
   ],
   "source": [
    "l1"
   ]
  },
  {
   "cell_type": "code",
   "execution_count": 28,
   "id": "90607492-0208-494c-992f-c49ced0a87ad",
   "metadata": {},
   "outputs": [],
   "source": [
    "l1.insert(1,\"kumar\")"
   ]
  },
  {
   "cell_type": "code",
   "execution_count": 29,
   "id": "ed2c2b5b-e06b-4137-9e9d-c1bf68cebd29",
   "metadata": {},
   "outputs": [
    {
     "data": {
      "text/plain": [
       "[10, 'kumar', 'kumar', 's', 'u', 'm', 'i', 't', 10, 20, 5, 63, 78]"
      ]
     },
     "execution_count": 29,
     "metadata": {},
     "output_type": "execute_result"
    }
   ],
   "source": [
    "l1"
   ]
  },
  {
   "cell_type": "code",
   "execution_count": 31,
   "id": "c6769b3f-6f13-4b90-9bb5-39a2bb65c52c",
   "metadata": {},
   "outputs": [],
   "source": [
    "l1.insert(1,[10.20,30.5,10])"
   ]
  },
  {
   "cell_type": "code",
   "execution_count": 32,
   "id": "d49a9e49-4777-462f-a734-1a67a5075488",
   "metadata": {},
   "outputs": [
    {
     "data": {
      "text/plain": [
       "[10,\n",
       " [10.2, 30.5, 10],\n",
       " 'kumar',\n",
       " 'kumar',\n",
       " 's',\n",
       " 'u',\n",
       " 'm',\n",
       " 'i',\n",
       " 't',\n",
       " 10,\n",
       " 20,\n",
       " 5,\n",
       " 63,\n",
       " 78]"
      ]
     },
     "execution_count": 32,
     "metadata": {},
     "output_type": "execute_result"
    }
   ],
   "source": [
    "l1"
   ]
  },
  {
   "cell_type": "code",
   "execution_count": 33,
   "id": "6db0a4c5-fb39-4432-9245-b5c421fe6762",
   "metadata": {},
   "outputs": [],
   "source": [
    "l1.insert(-1,45)"
   ]
  },
  {
   "cell_type": "code",
   "execution_count": 34,
   "id": "aea2b698-4e10-43f1-8768-1494e81b3e33",
   "metadata": {},
   "outputs": [
    {
     "data": {
      "text/plain": [
       "[10,\n",
       " [10.2, 30.5, 10],\n",
       " 'kumar',\n",
       " 'kumar',\n",
       " 's',\n",
       " 'u',\n",
       " 'm',\n",
       " 'i',\n",
       " 't',\n",
       " 10,\n",
       " 20,\n",
       " 5,\n",
       " 63,\n",
       " 45,\n",
       " 78]"
      ]
     },
     "execution_count": 34,
     "metadata": {},
     "output_type": "execute_result"
    }
   ],
   "source": [
    "l1"
   ]
  },
  {
   "cell_type": "code",
   "execution_count": 1,
   "id": "17bff46e-1592-4801-930d-cb4063cfe324",
   "metadata": {},
   "outputs": [],
   "source": [
    "t=(2,3,45,675, \"sumit\",[2,4,5])"
   ]
  },
  {
   "cell_type": "code",
   "execution_count": 2,
   "id": "8e806136-3de1-4360-a3c1-f19a0f5463a1",
   "metadata": {},
   "outputs": [
    {
     "data": {
      "text/plain": [
       "(2, 3, 45, 675, 'sumit', [2, 4, 5])"
      ]
     },
     "execution_count": 2,
     "metadata": {},
     "output_type": "execute_result"
    }
   ],
   "source": [
    "t"
   ]
  },
  {
   "cell_type": "code",
   "execution_count": 3,
   "id": "a5f253aa-a9a3-4735-9f2c-6cd8bc6a63f9",
   "metadata": {},
   "outputs": [
    {
     "data": {
      "text/plain": [
       "tuple"
      ]
     },
     "execution_count": 3,
     "metadata": {},
     "output_type": "execute_result"
    }
   ],
   "source": [
    "type(t)"
   ]
  },
  {
   "cell_type": "code",
   "execution_count": 4,
   "id": "965d6a0a-eef3-4ac2-b872-44922e43692e",
   "metadata": {},
   "outputs": [
    {
     "data": {
      "text/plain": [
       "[2, 4, 5]"
      ]
     },
     "execution_count": 4,
     "metadata": {},
     "output_type": "execute_result"
    }
   ],
   "source": [
    "t[-1]"
   ]
  },
  {
   "cell_type": "code",
   "execution_count": 5,
   "id": "d40d505d-8fc7-433e-b416-b685557ec3ac",
   "metadata": {},
   "outputs": [
    {
     "data": {
      "text/plain": [
       "([2, 4, 5], 'sumit', 675, 45, 3, 2)"
      ]
     },
     "execution_count": 5,
     "metadata": {},
     "output_type": "execute_result"
    }
   ],
   "source": [
    "t[::-1]"
   ]
  },
  {
   "cell_type": "code",
   "execution_count": 6,
   "id": "b7c55d7e-c64c-48c0-9a37-5771d0f78a81",
   "metadata": {},
   "outputs": [
    {
     "ename": "TypeError",
     "evalue": "'tuple' object does not support item assignment",
     "output_type": "error",
     "traceback": [
      "\u001b[0;31m---------------------------------------------------------------------------\u001b[0m",
      "\u001b[0;31mTypeError\u001b[0m                                 Traceback (most recent call last)",
      "Cell \u001b[0;32mIn[6], line 1\u001b[0m\n\u001b[0;32m----> 1\u001b[0m \u001b[43mt\u001b[49m\u001b[43m[\u001b[49m\u001b[38;5;241;43m0\u001b[39;49m\u001b[43m]\u001b[49m\u001b[38;5;241m=\u001b[39m\u001b[38;5;124m\"\u001b[39m\u001b[38;5;124msumit\u001b[39m\u001b[38;5;124m\"\u001b[39m\n",
      "\u001b[0;31mTypeError\u001b[0m: 'tuple' object does not support item assignment"
     ]
    }
   ],
   "source": [
    "t[0]=\"sumit\""
   ]
  },
  {
   "cell_type": "code",
   "execution_count": 8,
   "id": "e784e5b4-6402-4b57-a390-ea30d76cf37a",
   "metadata": {},
   "outputs": [
    {
     "data": {
      "text/plain": [
       "1"
      ]
     },
     "execution_count": 8,
     "metadata": {},
     "output_type": "execute_result"
    }
   ],
   "source": [
    "t.count(2)"
   ]
  },
  {
   "cell_type": "code",
   "execution_count": 9,
   "id": "ec0f1d05-bcfc-4b60-a17a-63515105aaed",
   "metadata": {},
   "outputs": [
    {
     "data": {
      "text/plain": [
       "4"
      ]
     },
     "execution_count": 9,
     "metadata": {},
     "output_type": "execute_result"
    }
   ],
   "source": [
    "t.index(\"sumit\")"
   ]
  },
  {
   "cell_type": "code",
   "execution_count": 10,
   "id": "d92b6f45-c22d-445d-9dd8-d9a135d707b3",
   "metadata": {},
   "outputs": [],
   "source": [
    "s1={}"
   ]
  },
  {
   "cell_type": "code",
   "execution_count": 11,
   "id": "ee2dcee5-4537-457c-a6ef-57e8798e4217",
   "metadata": {},
   "outputs": [
    {
     "data": {
      "text/plain": [
       "dict"
      ]
     },
     "execution_count": 11,
     "metadata": {},
     "output_type": "execute_result"
    }
   ],
   "source": [
    "type(s1)"
   ]
  },
  {
   "cell_type": "code",
   "execution_count": 12,
   "id": "c89b85b0-9ccc-4011-b40b-a27152653768",
   "metadata": {},
   "outputs": [],
   "source": [
    "s2={1,2,34,455,656,54,4}"
   ]
  },
  {
   "cell_type": "code",
   "execution_count": 13,
   "id": "35609793-5f06-4352-b81f-9dfaace65c81",
   "metadata": {},
   "outputs": [
    {
     "data": {
      "text/plain": [
       "set"
      ]
     },
     "execution_count": 13,
     "metadata": {},
     "output_type": "execute_result"
    }
   ],
   "source": [
    "type(s2)"
   ]
  },
  {
   "cell_type": "code",
   "execution_count": 14,
   "id": "8b4b8632-d230-41c1-b866-39cd32e3558e",
   "metadata": {},
   "outputs": [],
   "source": [
    "s3={123,34,34.4,445,\"sumit\"}"
   ]
  },
  {
   "cell_type": "code",
   "execution_count": 15,
   "id": "ecabc367-61c9-46b2-95d9-253d664096c1",
   "metadata": {},
   "outputs": [
    {
     "data": {
      "text/plain": [
       "{123, 34, 34.4, 445, 'sumit'}"
      ]
     },
     "execution_count": 15,
     "metadata": {},
     "output_type": "execute_result"
    }
   ],
   "source": [
    "s3"
   ]
  },
  {
   "cell_type": "code",
   "execution_count": 16,
   "id": "2ef149b7-56c4-4ac9-b712-c0f39ed48eab",
   "metadata": {},
   "outputs": [],
   "source": [
    "s4={1,2,32,3,4,5,6,7,6,4,3,2,1,3,4,6,6,7,5,43,}"
   ]
  },
  {
   "cell_type": "code",
   "execution_count": 17,
   "id": "92de367d-a9c6-410a-bf85-8b715dd46c0e",
   "metadata": {},
   "outputs": [
    {
     "data": {
      "text/plain": [
       "{1, 2, 3, 4, 5, 6, 7, 32, 43}"
      ]
     },
     "execution_count": 17,
     "metadata": {},
     "output_type": "execute_result"
    }
   ],
   "source": [
    "s4"
   ]
  },
  {
   "cell_type": "code",
   "execution_count": 18,
   "id": "265a6146-01d8-41e0-b7c0-4c9bc6589fe2",
   "metadata": {},
   "outputs": [],
   "source": [
    "l4=[1,2,32,3,4,5,6,7,6,4,3,2,1,3,4,6,6,7,5,43]"
   ]
  },
  {
   "cell_type": "code",
   "execution_count": 19,
   "id": "ebd2ffc4-af2c-47f9-9b7e-d047128cba9e",
   "metadata": {},
   "outputs": [],
   "source": [
    " l5=set(l4)"
   ]
  },
  {
   "cell_type": "code",
   "execution_count": 20,
   "id": "9fec18fa-1ae9-4a0f-afee-f4af6058a637",
   "metadata": {},
   "outputs": [
    {
     "data": {
      "text/plain": [
       "{1, 2, 3, 4, 5, 6, 7, 32, 43}"
      ]
     },
     "execution_count": 20,
     "metadata": {},
     "output_type": "execute_result"
    }
   ],
   "source": [
    "l5"
   ]
  },
  {
   "cell_type": "code",
   "execution_count": 21,
   "id": "ebeeabe1-2274-4ef0-b64d-b8f20da6c334",
   "metadata": {},
   "outputs": [
    {
     "data": {
      "text/plain": [
       "{1, 2, 3, 4, 5, 6, 7, 32, 43}"
      ]
     },
     "execution_count": 21,
     "metadata": {},
     "output_type": "execute_result"
    }
   ],
   "source": [
    "s4"
   ]
  },
  {
   "cell_type": "code",
   "execution_count": 22,
   "id": "d5a1b00d-1272-4c71-9214-ceedb29e3a26",
   "metadata": {},
   "outputs": [],
   "source": [
    "s6={23,45,23,45,67,78,98,554,3,2,3445,\"abc\",34,456}"
   ]
  },
  {
   "cell_type": "code",
   "execution_count": 23,
   "id": "5978bf1a-42f2-49c0-9a18-dc724736e996",
   "metadata": {},
   "outputs": [
    {
     "data": {
      "text/plain": [
       "{2, 23, 3, 34, 3445, 45, 456, 554, 67, 78, 98, 'abc'}"
      ]
     },
     "execution_count": 23,
     "metadata": {},
     "output_type": "execute_result"
    }
   ],
   "source": [
    "s6"
   ]
  },
  {
   "cell_type": "code",
   "execution_count": 24,
   "id": "f023a37c-351b-4f50-a709-cf6e1c98ccf6",
   "metadata": {},
   "outputs": [
    {
     "ename": "TypeError",
     "evalue": "'set' object is not subscriptable",
     "output_type": "error",
     "traceback": [
      "\u001b[0;31m---------------------------------------------------------------------------\u001b[0m",
      "\u001b[0;31mTypeError\u001b[0m                                 Traceback (most recent call last)",
      "Cell \u001b[0;32mIn[24], line 1\u001b[0m\n\u001b[0;32m----> 1\u001b[0m \u001b[43ms6\u001b[49m\u001b[43m[\u001b[49m\u001b[38;5;241;43m0\u001b[39;49m\u001b[43m]\u001b[49m\n",
      "\u001b[0;31mTypeError\u001b[0m: 'set' object is not subscriptable"
     ]
    }
   ],
   "source": [
    "s6[0]"
   ]
  },
  {
   "cell_type": "code",
   "execution_count": 25,
   "id": "e64e786f-a7eb-44ea-9db1-7f1966eeb43c",
   "metadata": {},
   "outputs": [
    {
     "ename": "TypeError",
     "evalue": "'set' object is not subscriptable",
     "output_type": "error",
     "traceback": [
      "\u001b[0;31m---------------------------------------------------------------------------\u001b[0m",
      "\u001b[0;31mTypeError\u001b[0m                                 Traceback (most recent call last)",
      "Cell \u001b[0;32mIn[25], line 1\u001b[0m\n\u001b[0;32m----> 1\u001b[0m \u001b[43ms6\u001b[49m\u001b[43m[\u001b[49m\u001b[43m:\u001b[49m\u001b[43m:\u001b[49m\u001b[43m]\u001b[49m\n",
      "\u001b[0;31mTypeError\u001b[0m: 'set' object is not subscriptable"
     ]
    }
   ],
   "source": [
    "s6[::]"
   ]
  },
  {
   "cell_type": "code",
   "execution_count": 26,
   "id": "a9c78e5e-4252-40e6-8453-a2e30efba23a",
   "metadata": {},
   "outputs": [],
   "source": [
    "s6.add(100000)"
   ]
  },
  {
   "cell_type": "code",
   "execution_count": 27,
   "id": "5a947c86-5992-492f-8fb1-3ba49fd1ce67",
   "metadata": {},
   "outputs": [
    {
     "data": {
      "text/plain": [
       "{100000, 2, 23, 3, 34, 3445, 45, 456, 554, 67, 78, 98, 'abc'}"
      ]
     },
     "execution_count": 27,
     "metadata": {},
     "output_type": "execute_result"
    }
   ],
   "source": [
    "s6"
   ]
  },
  {
   "cell_type": "code",
   "execution_count": 28,
   "id": "0d870ce9-cdc4-4a82-a962-7658e1266c9c",
   "metadata": {},
   "outputs": [],
   "source": [
    "s6.remove(100000)"
   ]
  },
  {
   "cell_type": "code",
   "execution_count": 29,
   "id": "d9c7063c-1ce9-4a8c-9798-78392c774d4a",
   "metadata": {},
   "outputs": [
    {
     "data": {
      "text/plain": [
       "{2, 23, 3, 34, 3445, 45, 456, 554, 67, 78, 98, 'abc'}"
      ]
     },
     "execution_count": 29,
     "metadata": {},
     "output_type": "execute_result"
    }
   ],
   "source": [
    "s6"
   ]
  },
  {
   "cell_type": "code",
   "execution_count": 30,
   "id": "5f8c6057-9351-41d9-a514-c6e1bcf0575d",
   "metadata": {},
   "outputs": [],
   "source": [
    "d={}"
   ]
  },
  {
   "cell_type": "code",
   "execution_count": 33,
   "id": "4e5c9b56-6050-401a-98b6-8979a8795a6c",
   "metadata": {},
   "outputs": [
    {
     "data": {
      "text/plain": [
       "dict"
      ]
     },
     "execution_count": 33,
     "metadata": {},
     "output_type": "execute_result"
    }
   ],
   "source": [
    "type(d)"
   ]
  },
  {
   "cell_type": "code",
   "execution_count": 36,
   "id": "25a307cb-a059-4464-b457-47e38641d5d1",
   "metadata": {},
   "outputs": [],
   "source": [
    "d1={'key':\"name\"}"
   ]
  },
  {
   "cell_type": "code",
   "execution_count": 37,
   "id": "3b7f1ac4-677a-4ed9-8dbd-27af707ae00d",
   "metadata": {},
   "outputs": [
    {
     "data": {
      "text/plain": [
       "{'key': 'name'}"
      ]
     },
     "execution_count": 37,
     "metadata": {},
     "output_type": "execute_result"
    }
   ],
   "source": [
    "d1"
   ]
  },
  {
   "cell_type": "code",
   "execution_count": 38,
   "id": "f0e8bd10-9b8a-4285-8cb6-9e31f4987600",
   "metadata": {},
   "outputs": [],
   "source": [
    "d2={'name':\"Sumit\",'email':\"skprajapati@123\"}"
   ]
  },
  {
   "cell_type": "code",
   "execution_count": 39,
   "id": "0ef04a35-8540-44c5-81c3-5e57f30aa132",
   "metadata": {},
   "outputs": [
    {
     "data": {
      "text/plain": [
       "{'name': 'Sumit', 'email': 'skprajapati@123'}"
      ]
     },
     "execution_count": 39,
     "metadata": {},
     "output_type": "execute_result"
    }
   ],
   "source": [
    "d2"
   ]
  },
  {
   "cell_type": "code",
   "execution_count": 40,
   "id": "e649dabf-9c43-40bc-a0a6-cfc26d58caab",
   "metadata": {},
   "outputs": [
    {
     "data": {
      "text/plain": [
       "'Sumit'"
      ]
     },
     "execution_count": 40,
     "metadata": {},
     "output_type": "execute_result"
    }
   ],
   "source": [
    "d2['name']"
   ]
  },
  {
   "cell_type": "code",
   "execution_count": 41,
   "id": "aaa8d412-7b17-4610-b7cb-9343af78bea0",
   "metadata": {},
   "outputs": [
    {
     "ename": "KeyError",
     "evalue": "1",
     "output_type": "error",
     "traceback": [
      "\u001b[0;31m---------------------------------------------------------------------------\u001b[0m",
      "\u001b[0;31mKeyError\u001b[0m                                  Traceback (most recent call last)",
      "Cell \u001b[0;32mIn[41], line 1\u001b[0m\n\u001b[0;32m----> 1\u001b[0m \u001b[43md2\u001b[49m\u001b[43m[\u001b[49m\u001b[38;5;241;43m1\u001b[39;49m\u001b[43m]\u001b[49m\n",
      "\u001b[0;31mKeyError\u001b[0m: 1"
     ]
    }
   ],
   "source": [
    "d2[1]"
   ]
  },
  {
   "cell_type": "code",
   "execution_count": 43,
   "id": "64fca3d1-3eb0-4bd9-8447-77d2e57cff8d",
   "metadata": {},
   "outputs": [],
   "source": [
    "d3={'name':'sumit','phone':7891234560}"
   ]
  },
  {
   "cell_type": "code",
   "execution_count": 44,
   "id": "58e64704-78bd-44aa-82ea-1500504006dd",
   "metadata": {},
   "outputs": [
    {
     "data": {
      "text/plain": [
       "{'name': 'sumit', 'phone': 7891234560}"
      ]
     },
     "execution_count": 44,
     "metadata": {},
     "output_type": "execute_result"
    }
   ],
   "source": [
    "d3"
   ]
  },
  {
   "cell_type": "code",
   "execution_count": 45,
   "id": "698e49e1-51ee-4598-a277-d2d37115998f",
   "metadata": {},
   "outputs": [],
   "source": [
    "d4={'company':\"pwskill\",\"course\":[\"dada science\",\"DBMS\"]}"
   ]
  },
  {
   "cell_type": "code",
   "execution_count": 46,
   "id": "fdc92f63-0469-4fbc-8eab-c5e22ee05d29",
   "metadata": {},
   "outputs": [
    {
     "data": {
      "text/plain": [
       "'DBMS'"
      ]
     },
     "execution_count": 46,
     "metadata": {},
     "output_type": "execute_result"
    }
   ],
   "source": [
    "d4[\"course\"][1]"
   ]
  },
  {
   "cell_type": "code",
   "execution_count": null,
   "id": "6c63c03a-9318-41e9-9a5c-fd44c103db97",
   "metadata": {},
   "outputs": [],
   "source": []
  }
 ],
 "metadata": {
  "kernelspec": {
   "display_name": "Python 3 (ipykernel)",
   "language": "python",
   "name": "python3"
  },
  "language_info": {
   "codemirror_mode": {
    "name": "ipython",
    "version": 3
   },
   "file_extension": ".py",
   "mimetype": "text/x-python",
   "name": "python",
   "nbconvert_exporter": "python",
   "pygments_lexer": "ipython3",
   "version": "3.10.8"
  }
 },
 "nbformat": 4,
 "nbformat_minor": 5
}
